{
 "cells": [
  {
   "metadata": {
    "ExecuteTime": {
     "end_time": "2024-08-08T20:38:25.098417Z",
     "start_time": "2024-08-08T20:36:43.032701Z"
    }
   },
   "cell_type": "code",
   "source": [
    "import numpy as np\n",
    "import random\n",
    "\n",
    "values = [1, 10, 100, 1000, 10000, 100000, 1000000]\n",
    "\n",
    "# Display headers\n",
    "print(f\"{'Number of values':<20}{'List average execution time':<30}{'Array average execution time':<30}\")\n",
    "\n",
    "# Iterate over different sizes\n",
    "for value in values:\n",
    "    # -o -> captures the result for later use | -q -> supressess the output\n",
    "    list_time = %timeit -o -q [random.randrange(1, 7) for i in range(value)]\n",
    "    \n",
    "    # Use %timeit magic command for np.random.randint\n",
    "    array_time = %timeit -o -q np.random.randint(1, 7, value)\n",
    "    \n",
    "    # Print the results\n",
    "    print(f\"{value:<20}{f'{list_time.best*1e6:.4f}(μs)':<30}{f'{array_time.best*1e6:.4f}(μs)':<30}\")\n"
   ],
   "id": "39e9ff04bfa07958",
   "outputs": [
    {
     "name": "stdout",
     "output_type": "stream",
     "text": [
      "Number of values    List average execution time   Array average execution time  \n",
      "1                   1.0830(μs)                    8.7680(μs)                    \n",
      "10                  4.2338(μs)                    8.6632(μs)                    \n",
      "100                 37.8212(μs)                   9.8218(μs)                    \n",
      "1000                395.4060(μs)                  19.1954(μs)                   \n",
      "10000               3790.2936(μs)                 109.9746(μs)                  \n",
      "100000              37898.9992(μs)                987.0099(μs)                  \n",
      "1000000             367037.8840(μs)               9574.2263(μs)                 \n"
     ]
    }
   ],
   "execution_count": 61
  }
 ],
 "metadata": {
  "kernelspec": {
   "display_name": "Python 3",
   "language": "python",
   "name": "python3"
  },
  "language_info": {
   "codemirror_mode": {
    "name": "ipython",
    "version": 2
   },
   "file_extension": ".py",
   "mimetype": "text/x-python",
   "name": "python",
   "nbconvert_exporter": "python",
   "pygments_lexer": "ipython2",
   "version": "2.7.6"
  }
 },
 "nbformat": 4,
 "nbformat_minor": 5
}
